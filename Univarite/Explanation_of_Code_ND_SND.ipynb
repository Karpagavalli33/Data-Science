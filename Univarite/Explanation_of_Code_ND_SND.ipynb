{
 "cells": [
  {
   "cell_type": "code",
   "execution_count": 2,
   "id": "ab64f4f5-b8cf-4bf9-a335-9e307e1836c9",
   "metadata": {},
   "outputs": [],
   "source": [
    " #function head, passing dataset,getting startrange,endrange values from user \n",
    "def get_pdf_probability(dataset,startrange,endrange): \n",
    "\n",
    "    #importing pyplot from matplotlib\n",
    "    from matplotlib import pyplot  \n",
    "\n",
    "    #importing norm from scipy.stats library\n",
    "    from scipy.stats import norm   \n",
    "    \n",
    "    #importing seaborn getting that in variable called sns\n",
    "    import seaborn as sns\n",
    "    \n",
    "    #distplot helps to visualizing the distribution of data(histogram)\n",
    "    #passing dataset,kde(kernal density estimate) provide the smooth curve over histogram,\n",
    "    #kde_kws={'color':'blue'} represents that curve should be in blue color\n",
    "    #color='Green' represents histogram color\n",
    "    ax = sns.distplot(dataset,kde=True,kde_kws={'color':'blue'},color='Green')\n",
    "\n",
    "    #drawing vertical with respect to startrange and endrange, and the color(Red) of the vertical line.\n",
    "    pyplot.axvline(startrange,color='Red')\n",
    "    pyplot.axvline(endrange,color='Red')\n",
    "\n",
    "    #getting dataset in variable name called sample\n",
    "    sample=dataset\n",
    "\n",
    "    #calculating sample mean and sample stanard deviation and printing those values.\n",
    "    sample_mean=sample.mean()\n",
    "    sample_std=sample.std()\n",
    "    print(\"Mean = %.3f,Standard Deviation = %.3f\" %(sample_mean,sample_std))\n",
    "\n",
    "    #calling norm that we imported from scipy.stats \n",
    "    #passing the values (calculated sample mean and sample stanard deviation) into it and get it saved in dist vale\n",
    "    dist=norm(sample_mean,sample_std)\n",
    "\n",
    "    #This is oneline for loop helps to minimize the code\n",
    "    #values were got from the customer are appened in values within array.\n",
    "    values=[value for value in range(startrange,endrange)]\n",
    "\n",
    "    #The number comes in value variable got passed dist.pdf function to find the probability density fucntion \n",
    "    #and storing into the array called probabilites.\n",
    "    probabilities = [dist.pdf(value) for value in values]\n",
    "\n",
    "    #adding the probabilies for values from startrange to endrange\n",
    "    prob=sum(probabilities)\n",
    "    \n",
    "    #printing the required output and returning probe value,since it is function.\n",
    "    print(\"The area between the range({},{}):{}\".format(startrange,endrange,prob))\n",
    "    return prob"
   ]
  },
  {
   "cell_type": "code",
   "execution_count": 3,
   "id": "c560a5fb-b6ae-4598-87c4-f517aefae465",
   "metadata": {},
   "outputs": [],
   "source": [
    "#stdNBgraph is function head and passing dataset into it.\n",
    "def stdNBgraph(dataset):\n",
    "    #importing seaborn library in sns variable.\n",
    "    import seaborn as sns\n",
    "    #finding the population mean and population standard deviation\n",
    "    mean=dataset.mean()\n",
    "    std=dataset.std()\n",
    "    #storing the dataset values in i variable and put it in the array called values in oneline for loop\n",
    "    values=[i for i in dataset]\n",
    "    #finding the z_score values using oneline for loop and storing the values present in values variable \n",
    "    #into j variable and then applied that into (j-mean)/std.\n",
    "    z_score=[((j-mean)/std) for j in values]\n",
    "    #showing the histogram using distplot \n",
    "    sns.distplot(z_score,kde=True)"
   ]
  },
  {
   "cell_type": "code",
   "execution_count": null,
   "id": "b14f9a71-6f83-4f87-9998-4f759a8fb437",
   "metadata": {},
   "outputs": [],
   "source": []
  }
 ],
 "metadata": {
  "kernelspec": {
   "display_name": "Python 3 (ipykernel)",
   "language": "python",
   "name": "python3"
  },
  "language_info": {
   "codemirror_mode": {
    "name": "ipython",
    "version": 3
   },
   "file_extension": ".py",
   "mimetype": "text/x-python",
   "name": "python",
   "nbconvert_exporter": "python",
   "pygments_lexer": "ipython3",
   "version": "3.11.5"
  }
 },
 "nbformat": 4,
 "nbformat_minor": 5
}
